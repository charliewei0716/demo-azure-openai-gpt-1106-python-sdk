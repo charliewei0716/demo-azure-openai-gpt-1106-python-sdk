{
  "nbformat": 4,
  "nbformat_minor": 0,
  "metadata": {
    "colab": {
      "provenance": [],
      "toc_visible": true,
      "authorship_tag": "ABX9TyOkMImO3r8fiVQJhd3WuJPT",
      "include_colab_link": true
    },
    "kernelspec": {
      "name": "python3",
      "display_name": "Python 3"
    },
    "language_info": {
      "name": "python"
    }
  },
  "cells": [
    {
      "cell_type": "markdown",
      "metadata": {
        "id": "view-in-github",
        "colab_type": "text"
      },
      "source": [
        "<a href=\"https://colab.research.google.com/github/charliewei0716/demo-azure-openai-gpt-1106-python-sdk/blob/main/reproducible-output.ipynb\" target=\"_parent\"><img src=\"https://colab.research.google.com/assets/colab-badge.svg\" alt=\"Open In Colab\"/></a>"
      ]
    },
    {
      "cell_type": "code",
      "source": [
        "import os\n",
        "from openai import AzureOpenAI\n",
        "\n",
        "client = AzureOpenAI(\n",
        "  azure_endpoint=os.getenv(\"AZURE_OPENAI_ENDPOINT\"),\n",
        "  api_key=os.getenv(\"AZURE_OPENAI_KEY\"),\n",
        "  api_version=\"2023-12-01-preview\"\n",
        ")"
      ],
      "metadata": {
        "id": "WmVJlIU30IOQ"
      },
      "execution_count": null,
      "outputs": []
    },
    {
      "cell_type": "code",
      "execution_count": null,
      "metadata": {
        "id": "7Wz-nQUq0xLH",
        "colab": {
          "base_uri": "https://localhost:8080/"
        },
        "outputId": "9baec1be-5486-4142-df12-2055bcd566c7"
      },
      "outputs": [
        {
          "output_type": "stream",
          "name": "stdout",
          "text": [
            "Story Version 1\n",
            "---\n",
            "In the beginning, there was nothing but a vast expanse of emptiness. Silence reigned supreme, and darkness enveloped all that wasn't there. Then, in a single, monumental event that would later be known as the Big Bang, the universe was born.\n",
            "\n",
            "About 13.8 billion years ago, an infinitely hot and dense single point, smaller than an atom, began to expand at an incomprehensible rate. From this initial explosion of energy, space and time were created, and the universe as we know it started to take shape.\n",
            "\n",
            "In the moments following the Big Bang, the universe was like a cosmic soup of subatomic particles, a mixture of quarks and electrons in a state of extreme heat and density. As the universe expanded, it began to cool, allowing these particles to combine and form the first protons and neutrons.\n",
            "\n",
            "Hundreds of thousands of years passed, and the universe continued to cool and expand. Atoms began to form as electrons combined with protons and\n",
            "-----\n",
            "\n",
            "Story Version 2\n",
            "---\n",
            "Once upon an eternal silence, there was nothing but a vast expanse of void. It was a canvas of unimaginable emptiness, waiting for the first stroke of creation's brush.\n",
            "\n",
            "In the heart of this nothingness, a singularity of infinite density and heat smaller than a pearl lay hidden, holding within it all the future matter and energy of what we now know as the universe. This singularity was an enigma, a tightly wound secret, a cosmic promise waiting to unfold.\n",
            "\n",
            "Then, in a moment of unfathomable mystery, an event of incomprehensible scale occurred. This was the Big Bang, the very beginning of time and space. With an explosive force of unimaginable magnitude, the singularity began to expand, and the universe was born.\n",
            "\n",
            "As it expanded at an incredible speed, the universe cooled, allowing the first particles to form. Protons, neutrons, electrons, the building blocks of all matter, danced into existence. They came together to form the first atoms\n",
            "-----\n",
            "\n",
            "Story Version 3\n",
            "---\n",
            "Once upon a time, in the vast expanse of nothingness, there was a singularity, an infinitely small and infinitely dense point where all the matter and energy of what we now call the universe were concentrated. This singularity was like a cosmic egg containing the potential for everything that would ever exist.\n",
            "\n",
            "Then, approximately 13.8 billion years ago, a spectacular event occurred that would change the course of nothingness forever - the Big Bang. This wasn't an explosion in space, but rather an explosion of space itself. In just a fraction of a second, the singularity began expanding at an incomprehensible speed, and as it expanded, it cooled.\n",
            "\n",
            "As the universe cooled, the first fundamental forces began to separate from each other. Gravity emerged, followed by the strong and weak nuclear forces, and electromagnetism. The universe continued to expand and cool, and within the first few minutes, protons and neutrons formed, which then began to fuse into the simplest element, hydrogen\n",
            "-----\n",
            "\n"
          ]
        }
      ],
      "source": [
        "for i in range(3):\n",
        "  print(f'Story Version {i + 1}\\n-----')\n",
        "\n",
        "  response = client.chat.completions.create(\n",
        "    model=\"gpt-4-1106\",\n",
        "    temperature=0.7,\n",
        "    max_tokens=200,\n",
        "    messages=[\n",
        "      {\"role\": \"system\", \"content\": \"You are a helpful assistant.\"},\n",
        "      {\"role\": \"user\", \"content\": \"Tell me a story about how the universe began?\"}\n",
        "    ]\n",
        "  )\n",
        "\n",
        "  print(response.choices[0].message.content)\n",
        "  print(\"-----\\n\")\n",
        "\n",
        "  del response\n"
      ]
    },
    {
      "cell_type": "code",
      "source": [
        "for i in range(3):\n",
        "  print(f'Story Version {i + 1}\\n-----')\n",
        "\n",
        "  response = client.chat.completions.create(\n",
        "    model=\"gpt-4-1106\",\n",
        "    seed=42,\n",
        "    temperature=0.7,\n",
        "    max_tokens=200,\n",
        "    messages=[\n",
        "      {\"role\": \"system\", \"content\": \"You are a helpful assistant.\"},\n",
        "      {\"role\": \"user\", \"content\": \"Tell me a story about how the universe began?\"}\n",
        "    ]\n",
        "  )\n",
        "\n",
        "  print(response.choices[0].message.content)\n",
        "  print(\"-----\\n\")\n",
        "\n",
        "  del response"
      ],
      "metadata": {
        "colab": {
          "base_uri": "https://localhost:8080/"
        },
        "id": "yqlWNg-F00iX",
        "outputId": "019aa39d-5128-4301-e9e2-e171532e3f92"
      },
      "execution_count": null,
      "outputs": [
        {
          "output_type": "stream",
          "name": "stdout",
          "text": [
            "Story Version 1\n",
            "-----\n",
            "In the beginning, there was nothing but a vast emptiness, a void without form or substance. Then, from this nothingness, a singular event occurred that would change the course of existence forever—The Big Bang.\n",
            "\n",
            "Around 13.8 billion years ago, an infinitely hot and dense point, no larger than a single atom, began to expand at an inconceivable speed. This was the birth of our universe, a moment where time and space came into being. As this primordial fireball grew, it cooled, and the fundamental forces that govern the cosmos—gravity, electromagnetism, and the strong and weak nuclear forces—began to take shape.\n",
            "\n",
            "Matter coalesced into the simplest elements, hydrogen and helium, which later formed vast clouds in the expanding universe. These clouds, driven by the force of gravity, began to collapse in on themselves, creating the first stars. The stars were crucibles of nuclear fusion, forging heavier elements like carbon, nitrogen, and oxygen\n",
            "-----\n",
            "\n",
            "Story Version 2\n",
            "-----\n",
            "In the beginning, there was nothing but a vast emptiness, a void without form or substance. Then, from this nothingness, a singular event occurred that would change the course of existence forever—The Big Bang.\n",
            "\n",
            "Around 13.8 billion years ago, an infinitely hot and dense point, no larger than a single atom, began to expand at an inconceivable speed. This was the birth of our universe, a moment where time and space came into being. As this primordial fireball grew, it cooled, and the fundamental forces that govern the cosmos—gravity, electromagnetism, and the strong and weak nuclear forces—began to take shape.\n",
            "\n",
            "Matter coalesced into the simplest elements, hydrogen and helium, which later formed vast clouds in the expanding universe. These clouds, driven by the force of gravity, began to collapse in on themselves, creating the first stars. The stars were crucibles of nuclear fusion, forging heavier elements like carbon, nitrogen, and oxygen\n",
            "-----\n",
            "\n",
            "Story Version 3\n",
            "-----\n",
            "In the beginning, there was nothing but a vast emptiness, a void without form or substance. Then, from this nothingness, a singular event occurred that would change the course of existence forever—The Big Bang.\n",
            "\n",
            "Around 13.8 billion years ago, an infinitely hot and dense point, no larger than a single atom, began to expand at an inconceivable speed. This was the birth of our universe, a moment where time and space came into being. As this primordial fireball grew, it cooled, and the fundamental forces that govern the cosmos—gravity, electromagnetism, and the strong and weak nuclear forces—began to take shape.\n",
            "\n",
            "Matter coalesced into the simplest elements, hydrogen and helium, which later formed vast clouds in the expanding universe. These clouds, driven by the force of gravity, began to collapse in on themselves, creating the first stars. The stars were crucibles of nuclear fusion, forging heavier elements like carbon, nitrogen, and oxygen\n",
            "-----\n",
            "\n"
          ]
        }
      ]
    },
    {
      "cell_type": "code",
      "source": [
        "import json\n",
        "\n",
        "for i in range(3):\n",
        "  print(f'Story Version {i + 1}\\n-----')\n",
        "\n",
        "  response = client.chat.completions.create(\n",
        "    model=\"gpt-4-1106\",\n",
        "    seed=42,\n",
        "    temperature=0.7,\n",
        "    max_tokens=200,\n",
        "    messages=[\n",
        "      {\"role\": \"system\", \"content\": \"You are a helpful assistant.\"},\n",
        "      {\"role\": \"user\", \"content\": \"Tell me a story about how the universe began?\"}\n",
        "    ]\n",
        "  )\n",
        "\n",
        "  print(response.choices[0].message.content)\n",
        "  print(\"-----\\n\")\n",
        "\n",
        "  print(json.loads(response.model_dump_json(indent=2))['system_fingerprint'])\n",
        "  print(\"-----\\n\")\n",
        "\n",
        "  del response"
      ],
      "metadata": {
        "colab": {
          "base_uri": "https://localhost:8080/"
        },
        "id": "k35tZo5A0Zvt",
        "outputId": "a9b8be00-4ccd-4cec-bad0-2a9b2024ef73"
      },
      "execution_count": null,
      "outputs": [
        {
          "output_type": "stream",
          "name": "stdout",
          "text": [
            "Story Version 1\n",
            "-----\n",
            "In the beginning, there was nothing but a vast emptiness, a void without form or substance. Then, from this nothingness, a singular event occurred that would change the course of existence forever—The Big Bang.\n",
            "\n",
            "Around 13.8 billion years ago, an infinitely hot and dense point, no larger than a single atom, began to expand at an inconceivable speed. This was the birth of our universe, a moment where time and space came into being. As this primordial fireball grew, it cooled, and the fundamental forces that govern the cosmos—gravity, electromagnetism, and the strong and weak nuclear forces—began to take shape.\n",
            "\n",
            "Matter coalesced into the simplest elements, hydrogen and helium, which later formed vast clouds in the expanding universe. These clouds, driven by the force of gravity, began to collapse in on themselves, creating the first stars. The stars were crucibles of nuclear fusion, forging heavier elements like carbon, nitrogen, and oxygen\n",
            "-----\n",
            "\n",
            "fp_50a4261de5\n",
            "-----\n",
            "\n",
            "Story Version 2\n",
            "-----\n",
            "In the beginning, there was nothing but a vast emptiness, a void without form or substance. Then, from this nothingness, a singular event occurred that would change the course of existence forever—The Big Bang.\n",
            "\n",
            "Around 13.8 billion years ago, an infinitely hot and dense point, no larger than a single atom, began to expand at an inconceivable speed. This was the birth of our universe, a moment where time and space came into being. As this primordial fireball grew, it cooled, and the fundamental forces that govern the cosmos—gravity, electromagnetism, and the strong and weak nuclear forces—began to take shape.\n",
            "\n",
            "Matter coalesced into the simplest elements, hydrogen and helium, which later formed vast clouds in the expanding universe. These clouds, driven by the force of gravity, began to collapse in on themselves, creating the first stars. The stars were crucibles of nuclear fusion, forging heavier elements like carbon, nitrogen, and oxygen\n",
            "-----\n",
            "\n",
            "fp_50a4261de5\n",
            "-----\n",
            "\n",
            "Story Version 3\n",
            "-----\n",
            "In the beginning, there was nothing but a vast emptiness, a void without form or substance. Then, from this nothingness, a singular event occurred that would change the course of existence forever—The Big Bang.\n",
            "\n",
            "Around 13.8 billion years ago, an infinitely hot and dense point, no larger than a single atom, began to expand at an inconceivable speed. This was the birth of our universe, a moment where time and space came into being. As this primordial fireball grew, it cooled, and the fundamental forces that govern the cosmos—gravity, electromagnetism, and the strong and weak nuclear forces—began to take shape.\n",
            "\n",
            "Matter coalesced into the simplest elements, hydrogen and helium, which later formed vast clouds in the expanding universe. These clouds, driven by the force of gravity, began to collapse in on themselves, creating the first stars. The stars were crucibles of nuclear fusion, forging heavier elements like carbon, nitrogen, and oxygen\n",
            "-----\n",
            "\n",
            "fp_50a4261de5\n",
            "-----\n",
            "\n"
          ]
        }
      ]
    },
    {
      "cell_type": "code",
      "source": [
        "import json\n",
        "\n",
        "for i in range(3):\n",
        "  print(f'TEST Version {i + 1}\\n-----')\n",
        "\n",
        "  response = client.chat.completions.create(\n",
        "    model=\"gpt-4-1106\",\n",
        "    seed=42,\n",
        "    temperature=0,\n",
        "    max_tokens=200,\n",
        "    messages=[\n",
        "      {\"role\": \"system\", \"content\": \"You are a helpful assistant.\"},\n",
        "      {\"role\": \"user\", \"content\": \"什麼是Azure?\"}\n",
        "    ]\n",
        "  )\n",
        "\n",
        "  print(response.choices[0].message.content)\n",
        "  print(\"-----\\n\")\n",
        "\n",
        "  print(json.loads(response.model_dump_json(indent=2))['system_fingerprint'])\n",
        "  print(\"-----\\n\")\n",
        "\n",
        "  del response"
      ],
      "metadata": {
        "colab": {
          "base_uri": "https://localhost:8080/"
        },
        "id": "Jp-33Ntq3LXs",
        "outputId": "c77abdf2-1967-4a47-90e2-e407b702cb1b"
      },
      "execution_count": null,
      "outputs": [
        {
          "output_type": "stream",
          "name": "stdout",
          "text": [
            "TEST Version 1\n",
            "-----\n",
            "Azure是微軟公司推出的一個雲計算平台和服務。它提供了一系列的雲服務，包括那些用於計算、分析、存儲和網絡的服務。用戶可以選擇這些服務來構建和管理應用程序，這些應用程序可以在全球範圍內的數據中心運行。Azure支持多種編程語言、工具和框架，包括微軟專有的和第三方的軟件和系統。\n",
            "-----\n",
            "\n",
            "fp_50a4261de5\n",
            "-----\n",
            "\n",
            "TEST Version 2\n",
            "-----\n",
            "Azure 是微軟公司推出的一個雲計算平台和服務。它提供了廣泛的雲服務，包括計算、分析、存儲和網絡。用戶可以通過Azure來構建、部署和管理應用程序，無論是在全球範圍的數據中心還是在本地。Azure支持多種編程語言、工具和框架，包括微軟專有的和第三方的軟件和系統。\n",
            "-----\n",
            "\n",
            "fp_50a4261de5\n",
            "-----\n",
            "\n",
            "TEST Version 3\n",
            "-----\n",
            "Azure是微軟公司推出的一個雲計算平台和服務。它提供了一系列的雲服務，包括那些用於計算、分析、存儲和網絡的服務。用戶可以選擇這些服務來構建和管理應用程序，這些應用程序可以在全球的數據中心網絡上運行。Azure支持多種編程語言、工具和框架，包括微軟專有的和第三方的軟件和系統。\n",
            "-----\n",
            "\n",
            "fp_50a4261de5\n",
            "-----\n",
            "\n"
          ]
        }
      ]
    }
  ]
}