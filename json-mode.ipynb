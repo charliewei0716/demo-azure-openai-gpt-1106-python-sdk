{
  "nbformat": 4,
  "nbformat_minor": 0,
  "metadata": {
    "colab": {
      "provenance": [],
      "toc_visible": true,
      "authorship_tag": "ABX9TyNa3YfFNHSk1ZbX2n6Q28zk",
      "include_colab_link": true
    },
    "kernelspec": {
      "name": "python3",
      "display_name": "Python 3"
    },
    "language_info": {
      "name": "python"
    }
  },
  "cells": [
    {
      "cell_type": "markdown",
      "metadata": {
        "id": "view-in-github",
        "colab_type": "text"
      },
      "source": [
        "<a href=\"https://colab.research.google.com/github/charliewei0716/demo-azure-openai-gpt-1106-python-sdk/blob/main/json-mode.ipynb\" target=\"_parent\"><img src=\"https://colab.research.google.com/assets/colab-badge.svg\" alt=\"Open In Colab\"/></a>"
      ]
    },
    {
      "cell_type": "code",
      "source": [
        "import os\n",
        "from openai import AzureOpenAI\n",
        "\n",
        "client = AzureOpenAI(\n",
        "  azure_endpoint=os.getenv(\"AZURE_OPENAI_ENDPOINT\"),\n",
        "  api_key=os.getenv(\"AZURE_OPENAI_KEY\"),\n",
        "  api_version=\"2023-12-01-preview\"\n",
        ")"
      ],
      "metadata": {
        "id": "WmVJlIU30IOQ"
      },
      "execution_count": 8,
      "outputs": []
    },
    {
      "cell_type": "code",
      "source": [
        "response = client.chat.completions.create(\n",
        "  model='gpt-4-1106',\n",
        "  response_format={'type': 'json_object'},\n",
        "  messages=[\n",
        "    {'role': 'system', 'content': 'You are a helpful assistant designed to output JSON.'},\n",
        "    {'role': 'user', 'content': 'Who won the world series in 2020?'}\n",
        "  ]\n",
        ")\n",
        "print(response.choices[0].message.content)"
      ],
      "metadata": {
        "colab": {
          "base_uri": "https://localhost:8080/"
        },
        "id": "KX7F8Ac6SL9r",
        "outputId": "6adcbd66-c104-4055-803c-e71500a86b0e"
      },
      "execution_count": 28,
      "outputs": [
        {
          "output_type": "stream",
          "name": "stdout",
          "text": [
            "{\n",
            "  \"winner\": \"Los Angeles Dodgers\",\n",
            "  \"event\": \"World Series\",\n",
            "  \"year\": 2020\n",
            "}\n"
          ]
        }
      ]
    },
    {
      "cell_type": "code",
      "source": [
        "response = client.chat.completions.create(\n",
        "  model=\"gpt-4-1106\",\n",
        "  response_format={'type': 'json_object'},\n",
        "  messages=[\n",
        "    {'role': 'system', 'content': '你是一名可以輸出 JSON 格式的得力助手'},\n",
        "    {'role': 'user', 'content': '我要購買一張台中到台北的高鐵票'}\n",
        "  ]\n",
        ")\n",
        "\n",
        "print(response.choices[0].message.content)"
      ],
      "metadata": {
        "colab": {
          "base_uri": "https://localhost:8080/"
        },
        "id": "fqNLWm7CT6Gl",
        "outputId": "5387ed42-9326-4a79-e408-a19340acaf8c"
      },
      "execution_count": 34,
      "outputs": [
        {
          "output_type": "stream",
          "name": "stdout",
          "text": [
            "{\n",
            "  \"ticket_info\": {\n",
            "    \"departure\": \"台中\",\n",
            "    \"destination\": \"台北\",\n",
            "    \"service\": \"高鐵\"\n",
            "  },\n",
            "  \"action\": \"購買\"\n",
            "}\n"
          ]
        }
      ]
    },
    {
      "cell_type": "code",
      "execution_count": 37,
      "metadata": {
        "id": "7Wz-nQUq0xLH",
        "colab": {
          "base_uri": "https://localhost:8080/"
        },
        "outputId": "0c5a713a-4dd2-4d2f-b4ba-1950ee3afb1d"
      },
      "outputs": [
        {
          "output_type": "stream",
          "name": "stdout",
          "text": [
            "{\n",
            "  \"Azure\": {\n",
            "    \"Description\": \"Microsoft Azure 是一個廣泛的雲計算服務平台，由微軟開發和運營。\",\n",
            "    \"Purpose\": \"Azure 提供了大量的雲服務，包括計算、分析、存儲和網絡。\",\n",
            "    \"Features\": [\n",
            "      \"虛擬機\",\n",
            "      \"應用服務\",\n",
            "      \"數據庫服務\",\n",
            "      \"大數據解決方案\",\n",
            "      \"人工智能服務\",\n",
            "      \"物聯網工具\"\n",
            "    ],\n",
            "    \"Benefits\": {\n",
            "      \"Scalability\": \"使用者可以根據需要輕鬆擴展資源。\",\n",
            "      \"Flexibility\": \"支援多種程式語言、工具和框架。\",\n",
            "      \"Cost-Effective\": \"通過按需付費模式，用戶僅為實際使用的服務付費。\",\n",
            "      \"Security\": \"提供多層次的安全功能和專業的安全管理。\"\n",
            "    },\n",
            "    \"DeploymentModels\": [\n",
            "      \"Public Cloud\",\n",
            "      \"Private Cloud\",\n",
            "      \"Hybrid Cloud\"\n",
            "    ]\n",
            "  }\n",
            "}\n"
          ]
        }
      ],
      "source": [
        "response = client.chat.completions.create(\n",
        "  model=\"gpt-4-1106\",\n",
        "  response_format={'type': 'json_object'},\n",
        "  messages=[\n",
        "    {'role': 'system', 'content': '你是一名可以輸出 JSON 格式的得力助手'},\n",
        "    {'role': 'user', 'content': '什麼是Azure?'}\n",
        "  ]\n",
        ")\n",
        "\n",
        "print(response.choices[0].message.content)"
      ]
    }
  ]
}